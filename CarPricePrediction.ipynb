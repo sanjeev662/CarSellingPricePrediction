{
  "nbformat": 4,
  "nbformat_minor": 0,
  "metadata": {
    "colab": {
      "name": "CarPricePrediction.ipynb",
      "provenance": [],
      "collapsed_sections": [],
      "include_colab_link": true
    },
    "kernelspec": {
      "name": "python3",
      "display_name": "Python 3"
    },
    "language_info": {
      "name": "python"
    }
  },
  "cells": [
    {
      "cell_type": "markdown",
      "metadata": {
        "id": "view-in-github",
        "colab_type": "text"
      },
      "source": [
        "<a href=\"https://colab.research.google.com/github/sanjeev662/CarSellingPricePrediction/blob/main/CarPricePrediction.ipynb\" target=\"_parent\"><img src=\"https://colab.research.google.com/assets/colab-badge.svg\" alt=\"Open In Colab\"/></a>"
      ]
    },
    {
      "cell_type": "markdown",
      "source": [
        "# **CarPricePrediction Project**\n",
        "\n",
        "---\n",
        "\n",
        "\n"
      ],
      "metadata": {
        "id": "Io56Lx0U6GNc"
      }
    },
    {
      "cell_type": "markdown",
      "source": [
        "## *importing modules for prediction..*"
      ],
      "metadata": {
        "id": "FZvHnRKk4fcP"
      }
    },
    {
      "cell_type": "code",
      "source": [
        "#for price prediction and Linear Regression\n",
        "import pandas as pd\n",
        "from sklearn import linear_model\n",
        "\n",
        "#for mean,median,mode...\n",
        "import csv\n",
        "import matplotlib.pyplot as plt\n",
        "import numpy as np\n",
        "from scipy import stats\n",
        "\n",
        "#for r2\n",
        "from sklearn.metrics import r2_score"
      ],
      "metadata": {
        "id": "TUnhVPBt2TUt"
      },
      "execution_count": 1,
      "outputs": []
    },
    {
      "cell_type": "markdown",
      "source": [
        "## for Selling_Price Prediction.."
      ],
      "metadata": {
        "id": "aYiK-lwz6zZ0"
      }
    },
    {
      "cell_type": "code",
      "execution_count": 2,
      "metadata": {
        "colab": {
          "base_uri": "https://localhost:8080/"
        },
        "id": "9qPFHFwsxRGL",
        "outputId": "513576d0-f08a-4ff4-d8e3-59fc666e59c9"
      },
      "outputs": [
        {
          "output_type": "stream",
          "name": "stdout",
          "text": [
            "input the present price : 200000\n",
            "input the Kms_Driven : 100000\n",
            "predicted Selling Price of car : [107112.2873794]\n"
          ]
        },
        {
          "output_type": "stream",
          "name": "stderr",
          "text": [
            "/usr/local/lib/python3.7/dist-packages/sklearn/base.py:451: UserWarning: X does not have valid feature names, but LinearRegression was fitted with feature names\n",
            "  \"X does not have valid feature names, but\"\n"
          ]
        }
      ],
      "source": [
        "\n",
        "#for price prediction\n",
        "df = pd.read_csv(\"CarData.csv\")\n",
        "XX = df[['Present_Price', 'Kms_Driven']]\n",
        "yy = df['Selling_Price']\n",
        "regr=linear_model.LinearRegression()\n",
        "regr.fit(XX, yy)\n",
        "pp=int(input(\"input the present price : \"))\n",
        "kd=int(input(\"input the Kms_Driven : \"))\n",
        "predictedSellingPrice = regr.predict([[pp,kd]])\n",
        "pre=\"predicted Selling Price of car : {}\"\n",
        "print(pre.format(predictedSellingPrice))"
      ]
    },
    {
      "cell_type": "markdown",
      "source": [
        "## for Linear Regression.."
      ],
      "metadata": {
        "id": "mW869lp07KDp"
      }
    },
    {
      "cell_type": "code",
      "source": [
        "#for linear regression\n",
        "\n",
        "#for Present_Price \n",
        "file=open(\"CarData.csv\")\n",
        "csvr=csv.reader(file)\n",
        "Present_Price=[]\n",
        "for row in csvr:\n",
        "  if row[0]!=\"Present_Price\":\n",
        "    Present_Price.append(row[3])\n",
        "x=np.array(Present_Price)\n",
        "Present_Price.remove('Present_Price')\n",
        "for i in range(0,len(Present_Price)):\n",
        "  Present_Price[i]=float(Present_Price[i])\n",
        "\n",
        "#for Selling_Price\n",
        "file=open(\"CarData.csv\")\n",
        "csvr=csv.reader(file)\n",
        "Selling_Price=[]\n",
        "for row in csvr:\n",
        "  if row[0]!=\"Selling_Price\":\n",
        "    Selling_Price.append(row[2])\n",
        "y=np.array(Selling_Price)\n",
        "Selling_Price.remove('Selling_Price')\n",
        "for i in range(0,len(Selling_Price)):\n",
        "  Selling_Price[i]=float(Selling_Price[i])\n",
        "\n",
        "slope, intercept, r, p, std_err = stats.linregress(Selling_Price,Present_Price)\n",
        "\n",
        "def myfunc(Selling_Price):\n",
        "  return slope *Selling_Price + intercept\n",
        "\n",
        "mymodel = list(map(myfunc,Selling_Price))\n",
        "plt.scatter(Selling_Price,Present_Price)\n",
        "plt.plot(Selling_Price,mymodel)\n",
        "plt.xlabel(\"Present Price\")\n",
        "plt.ylabel(\"Selling Price\")\n",
        "plt.title(\" Present Price vs Selling Price\")\n",
        "plt.show()"
      ],
      "metadata": {
        "colab": {
          "base_uri": "https://localhost:8080/",
          "height": 295
        },
        "id": "yv3OymfcyFZo",
        "outputId": "f4973974-3af6-431c-a69e-66ae32600d82"
      },
      "execution_count": 3,
      "outputs": [
        {
          "output_type": "display_data",
          "data": {
            "text/plain": [
              "<Figure size 432x288 with 1 Axes>"
            ],
            "image/png": "[encoded data removed]"
          },
          "metadata": {
            "needs_background": "light"
          }
        }
      ]
    },
    {
      "cell_type": "markdown",
      "source": [
        "## for Value of r.."
      ],
      "metadata": {
        "id": "PafKv7Xx7bjv"
      }
    },
    {
      "cell_type": "code",
      "source": [
        "#for value of r\n",
        "val=\"value of r : {}\"\n",
        "print(val.format(r))"
      ],
      "metadata": {
        "colab": {
          "base_uri": "https://localhost:8080/"
        },
        "id": "YURwRtgl0Fb9",
        "outputId": "681c2d3c-b135-4723-9886-1f9b0b711108"
      },
      "execution_count": 4,
      "outputs": [
        {
          "output_type": "stream",
          "name": "stdout",
          "text": [
            "value of r : 0.878982545161495\n"
          ]
        }
      ]
    },
    {
      "cell_type": "markdown",
      "source": [
        "## for value of r2"
      ],
      "metadata": {
        "id": "tYiIAn3p7i8t"
      }
    },
    {
      "cell_type": "code",
      "source": [
        "#for value of r2\n",
        "\n",
        "mymodel= np.poly1d(np.polyfit(Selling_Price,Present_Price, 3))\n",
        "r2=r2_score(Present_Price, mymodel(Selling_Price))\n",
        "txtr2=\"value of r2 : {}\"\n",
        "print(txtr2.format(r2))"
      ],
      "metadata": {
        "colab": {
          "base_uri": "https://localhost:8080/"
        },
        "id": "S2fD62RQ0L7G",
        "outputId": "e0f6fc1e-ac13-473d-f845-fd4dada65869"
      },
      "execution_count": 5,
      "outputs": [
        {
          "output_type": "stream",
          "name": "stdout",
          "text": [
            "value of r2 : 0.8108415407446485\n"
          ]
        }
      ]
    },
    {
      "cell_type": "markdown",
      "source": [
        "## for histogram.."
      ],
      "metadata": {
        "id": "W0ezK6v47q9j"
      }
    },
    {
      "cell_type": "code",
      "source": [
        "#for histogram\n",
        "plt.hist(Selling_Price)\n",
        "plt.show()"
      ],
      "metadata": {
        "colab": {
          "base_uri": "https://localhost:8080/",
          "height": 265
        },
        "id": "ZKCrBhd70tMH",
        "outputId": "6daa8e8b-8d84-4401-bfbf-a7548ae535f3"
      },
      "execution_count": 6,
      "outputs": [
        {
          "output_type": "display_data",
          "data": {
            "text/plain": [
              "<Figure size 432x288 with 1 Axes>"
            ],
            "image/png": "[encoded data removed]"
          },
          "metadata": {
            "needs_background": "light"
          }
        }
      ]
    },
    {
      "cell_type": "markdown",
      "source": [
        "# for mean price of cars"
      ],
      "metadata": {
        "id": "lW3zW3cz77QB"
      }
    },
    {
      "cell_type": "code",
      "source": [
        "#for mean price of cars\n",
        "pricemean=np.mean(Selling_Price)\n",
        "txtmean=\"mean selling price of cars : {}\"\n",
        "print(txtmean.format(pricemean))"
      ],
      "metadata": {
        "colab": {
          "base_uri": "https://localhost:8080/"
        },
        "id": "1p7IC2Or08Jr",
        "outputId": "3cdcb9a7-5b14-4dcb-ae6d-7be728bd9d39"
      },
      "execution_count": 7,
      "outputs": [
        {
          "output_type": "stream",
          "name": "stdout",
          "text": [
            "mean selling price of cars : 4.661295681063123\n"
          ]
        }
      ]
    },
    {
      "cell_type": "markdown",
      "source": [
        "# for median price of cars"
      ],
      "metadata": {
        "id": "Uqv4ti8s7_2H"
      }
    },
    {
      "cell_type": "code",
      "source": [
        "#for median price of cars\n",
        "pricemedian=np.median(Selling_Price)\n",
        "txtmedian=\"median selling price of cars : {}\"\n",
        "print(txtmedian.format(pricemedian))"
      ],
      "metadata": {
        "colab": {
          "base_uri": "https://localhost:8080/"
        },
        "id": "hDj5KkYm1Fnu",
        "outputId": "5d70ac4d-7dac-47c7-c9e2-d3661dc10f66"
      },
      "execution_count": 8,
      "outputs": [
        {
          "output_type": "stream",
          "name": "stdout",
          "text": [
            "median selling price of cars : 3.6\n"
          ]
        }
      ]
    },
    {
      "cell_type": "markdown",
      "source": [
        "# for mode price of cars"
      ],
      "metadata": {
        "id": "aS3Nlz5g8Egm"
      }
    },
    {
      "cell_type": "code",
      "source": [
        "#for mode price of cars\n",
        "pricemode=stats.mode(Selling_Price)\n",
        "txtmode=\"mode selling price of cars : {}\"\n",
        "print(txtmode.format(pricemode[0]))"
      ],
      "metadata": {
        "colab": {
          "base_uri": "https://localhost:8080/"
        },
        "id": "FYO4cl8-1JMn",
        "outputId": "85be70f7-3285-43f6-9d35-bfbd60007a7c"
      },
      "execution_count": 9,
      "outputs": [
        {
          "output_type": "stream",
          "name": "stdout",
          "text": [
            "mode selling price of cars : [0.45]\n"
          ]
        }
      ]
    }
  ]
}